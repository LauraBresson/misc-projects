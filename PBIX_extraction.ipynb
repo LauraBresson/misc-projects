{
 "cells": [
  {
   "cell_type": "markdown",
   "id": "9ca94bdc-1b4d-4e56-901f-7abc0cb551dd",
   "metadata": {},
   "source": [
    "# Extracting dashboard components for documentation"
   ]
  },
  {
   "cell_type": "code",
   "execution_count": null,
   "id": "74479ef7-eb45-4578-90e2-1be10e039658",
   "metadata": {},
   "outputs": [],
   "source": [
    "# importing necessary modules\n",
    "import pandas as pd\n",
    "from pbixray import PBIXRay\n",
    "from datetime import datetime"
   ]
  },
  {
   "cell_type": "code",
   "execution_count": null,
   "id": "c2be5755-7701-4ce9-95c4-927a0044cc3f",
   "metadata": {},
   "outputs": [],
   "source": [
    "# defining a function to export aspects of the dashboard in one file\n",
    "def massWriting_toExcel(filename, dataframes, sheetnames):\n",
    "    with pd.ExcelWriter(f\"{filename}_{str(datetime.now().strftime('%Y-%b-%d.%H.%M'))}.xlsx\") as writer:\n",
    "        for df, sheet in zip(dataframes, sheetnames):\n",
    "            df.to_excel(writer, sheet_name=sheet, index=False)"
   ]
  },
  {
   "cell_type": "code",
   "execution_count": null,
   "id": "25d615aa-5279-4972-8bae-9e3c17d7286a",
   "metadata": {},
   "outputs": [],
   "source": [
    "# assigning the dashboard along with its file path to a variable\n",
    "dashboard = PBIXRay(r'C:\\Users\\myname\\dashboard.pbix')"
   ]
  },
  {
   "cell_type": "code",
   "execution_count": null,
   "id": "6bf2ec42-0afa-4089-84c2-3b95db0314b3",
   "metadata": {},
   "outputs": [],
   "source": [
    "# assigning individual components of the dashboards to dataframes and variables\n",
    "# using PBIXRAY's functions\n",
    "dashboard_relationships = dashboard.relationships\n",
    "dashboard_queries = dashboard.power_query\n",
    "dashboard_measures = dashboard.dax_measures\n",
    "dashboard_tables = dashboard.dax_tables\n",
    "dashboard_metadata = dashboard.metadata\n",
    "dashboard_schema = dashboard.schema\n",
    "\n",
    "# grouping together the dataframes and tab names into lists ready for zipping\n",
    "docs = [dashboard_relationships, dashboard_queries, dashboard_measures,\n",
    "       dashboard_tables, dashboard_metadata, dashboard_schema]\n",
    "names = ['relationships', 'queries', 'measures',\n",
    "       'tables', 'metadata', 'schema']\n",
    "\n",
    "# calling onto the masswriting function defined earlier\n",
    "massWriting_toExcel(filename= \"documentation\", \n",
    "                    dataframes= docs,\n",
    "                    sheetnames= names)"
   ]
  }
 ],
 "metadata": {
  "kernelspec": {
   "display_name": "Python 3 (ipykernel)",
   "language": "python",
   "name": "python3"
  },
  "language_info": {
   "codemirror_mode": {
    "name": "ipython",
    "version": 3
   },
   "file_extension": ".py",
   "mimetype": "text/x-python",
   "name": "python",
   "nbconvert_exporter": "python",
   "pygments_lexer": "ipython3",
   "version": "3.12.3"
  }
 },
 "nbformat": 4,
 "nbformat_minor": 5
}
